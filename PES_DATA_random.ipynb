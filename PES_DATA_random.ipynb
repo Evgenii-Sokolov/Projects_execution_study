{
 "cells": [
  {
   "attachments": {},
   "cell_type": "markdown",
   "id": "a338bcdc",
   "metadata": {},
   "source": [
    "# Guarantee Assurance Initiative for Project Portfolio Execution"
   ]
  },
  {
   "cell_type": "markdown",
   "id": "3b45947c",
   "metadata": {},
   "source": [
    "This Jupiter notebook constitutes part of a research project. The project's full details are available in the webpage at _______ or in the PowerPoint presentation at _____."
   ]
  },
  {
   "cell_type": "markdown",
   "id": "ac657ea3",
   "metadata": {},
   "source": [
    "This Jupyter notebook is designed to randomly generate the dataset required for the project's purposes. The notebook utilizes randomization techniques to create a dataset that accurately represents the desired parameters and variables needed for the analysis."
   ]
  },
  {
   "cell_type": "markdown",
   "id": "fac7856e",
   "metadata": {},
   "source": [
    "Import the required libraries."
   ]
  },
  {
   "cell_type": "code",
   "execution_count": 1,
   "id": "df51a091",
   "metadata": {},
   "outputs": [],
   "source": [
    "import pandas as pd\n",
    "import numpy as np"
   ]
  },
  {
   "cell_type": "markdown",
   "id": "dafcd3e9",
   "metadata": {},
   "source": [
    "We are creating a dataframe with the required columns."
   ]
  },
  {
   "cell_type": "code",
   "execution_count": 2,
   "id": "1f6c0eb9",
   "metadata": {},
   "outputs": [],
   "source": [
    "df = pd.DataFrame(columns=['Contract_ID', 'Project', 'Contractor', 'Start_date', 'End_date', 'AP_G_date_plan', 'AP_G_date_fact', 'CE_G_date_plan', 'CE_G_date_fact', 'WP_G_date_plan', 'WP_G_date_fact', 'G_penalty_type', 'G_penalty_value'])"
   ]
  },
  {
   "cell_type": "markdown",
   "id": "ce3bcf3f",
   "metadata": {},
   "source": [
    "We are populating the columns with values of project names, contractors, and contracts."
   ]
  },
  {
   "cell_type": "code",
   "execution_count": 3,
   "id": "edfe7514",
   "metadata": {},
   "outputs": [],
   "source": [
    "Contract_ID_list = []\n",
    "Project_list = []\n",
    "Contractor_list = []\n",
    "\n",
    "for i in range(1, 5001):\n",
    "    Contract_ID_list.append(f'Contract_ID_{i}')\n",
    "    Project_list.append(f'Project_{np.random.randint(1, 5)}')\n",
    "    Contractor_list.append(f'Contractor_{np.random.randint(1, 100)}')\n",
    "\n",
    "df['Contract_ID'] = Contract_ID_list\n",
    "df[\"Project\"] = Project_list\n",
    "df[\"Contractor\"] = Contractor_list"
   ]
  },
  {
   "cell_type": "markdown",
   "id": "652949a1",
   "metadata": {},
   "source": [
    "We are populating the \"Start Date\" column with random dates."
   ]
  },
  {
   "cell_type": "code",
   "execution_count": 4,
   "id": "83f3955f",
   "metadata": {},
   "outputs": [],
   "source": [
    "date_range = pd.date_range(start='01-01-2018', end='01-01-2022')\n",
    "df['Start_date'] = pd.to_datetime(date_range).to_series().sample(n=5000, replace=True).reset_index(drop=True)"
   ]
  },
  {
   "cell_type": "markdown",
   "id": "83314565",
   "metadata": {},
   "source": [
    "We are calculating the contract end date taking into account the desired duration."
   ]
  },
  {
   "cell_type": "code",
   "execution_count": 5,
   "id": "66eefb4b",
   "metadata": {},
   "outputs": [],
   "source": [
    "def generate_random_end_date(start_date):\n",
    "    random_offset = pd.DateOffset(months=np.random.randint(2, 12))\n",
    "    return start_date + random_offset\n",
    "\n",
    "df['End_date'] = df['Start_date'].apply(generate_random_end_date)"
   ]
  },
  {
   "cell_type": "markdown",
   "id": "e9520a8e",
   "metadata": {},
   "source": [
    "We are generating the dates of guarantee provision based on the project requirements."
   ]
  },
  {
   "cell_type": "code",
   "execution_count": 6,
   "id": "3456e53d",
   "metadata": {},
   "outputs": [],
   "source": [
    "df['AP_G_date_plan'] = df['Start_date'] + pd.DateOffset(months=1)\n",
    "df['CE_G_date_plan'] = df['Start_date'] + pd.DateOffset(days=20)\n",
    "df['WP_G_date_plan'] = df['End_date'] + pd.DateOffset(months=-1)"
   ]
  },
  {
   "cell_type": "markdown",
   "id": "33cf4286",
   "metadata": {},
   "source": [
    "Next, we proceed to fill in the columns that contain the responsibility for non-provision of guarantees. We determine the type and magnitude of the responsibility."
   ]
  },
  {
   "cell_type": "code",
   "execution_count": 7,
   "id": "5edad4a3",
   "metadata": {},
   "outputs": [],
   "source": [
    "df['G_penalty_type'] = np.random.choice(['fine', 'forfeit'], size=len(df))"
   ]
  },
  {
   "cell_type": "code",
   "execution_count": 8,
   "id": "f362ffa6",
   "metadata": {},
   "outputs": [],
   "source": [
    "mask_fine = df['G_penalty_type'] == 'fine'\n",
    "df.loc[mask_fine, 'G_penalty_value'] = np.random.choice([0.1, 0.15, 0.2], size=mask_fine.sum())"
   ]
  },
  {
   "cell_type": "code",
   "execution_count": 9,
   "id": "d31727d3",
   "metadata": {},
   "outputs": [],
   "source": [
    "mask_forfeit = df['G_penalty_type'] == 'forfeit'\n",
    "df.loc[mask_forfeit, 'G_penalty_value'] = np.random.choice([0.01, 0.02, 0.05, 0.06], size=mask_forfeit.sum())"
   ]
  },
  {
   "cell_type": "markdown",
   "id": "0a13d85c",
   "metadata": {},
   "source": [
    "\n",
    "We proceed to fill in the actual dates of guarantee provision. Initially, we assign a deadline that meets the project conditions for all types of guarantees. Then, selectively, we assign certain groups of guarantees values that deviate from the deadline for guarantee provision."
   ]
  },
  {
   "cell_type": "code",
   "execution_count": 10,
   "id": "23845f73",
   "metadata": {},
   "outputs": [],
   "source": [
    "df['AP_G_date_fact'] = df['AP_G_date_plan']\n",
    "df['CE_G_date_fact'] = df['CE_G_date_plan']\n",
    "df['WP_G_date_fact'] = df['WP_G_date_plan']"
   ]
  },
  {
   "cell_type": "code",
   "execution_count": 11,
   "id": "6c049c71",
   "metadata": {},
   "outputs": [],
   "source": [
    "def generate_random_AP_G_date_fact(AP_G_date_plan):\n",
    "    random_offset = pd.DateOffset(days=np.random.randint(1, 30))\n",
    "    return AP_G_date_plan + random_offset\n",
    "\n",
    "selected_rows_AP = df.sample(frac=0.11).index\n",
    "df.loc[selected_rows_AP, 'AP_G_date_fact'] = df.loc[selected_rows_AP, 'AP_G_date_plan'].apply(generate_random_AP_G_date_fact)"
   ]
  },
  {
   "cell_type": "code",
   "execution_count": 12,
   "id": "5e3468a1",
   "metadata": {},
   "outputs": [],
   "source": [
    "def generate_random_WP_G_date_fact(WP_G_date_plan):\n",
    "    random_offset = pd.DateOffset(days=np.random.randint(10, 50))\n",
    "    return WP_G_date_plan + random_offset\n",
    "\n",
    "selected_rows_WP = df.sample(frac=0.13).index\n",
    "df.loc[selected_rows_WP, 'WP_G_date_fact'] = df.loc[selected_rows_WP, 'WP_G_date_plan'].apply(generate_random_AP_G_date_fact)"
   ]
  },
  {
   "cell_type": "markdown",
   "id": "d4bb612f",
   "metadata": {},
   "source": [
    "In order to accurately fill in the values for the actual date of guarantee provision for contract execution, a different approach is required. It is crucial for us to establish a specific distribution of this parameter based on the type and size of responsibility. The following code block is designed to achieve these objectives. We will generate samples of varying sizes and ranges for each type and size of responsibility to populate the data accordingly."
   ]
  },
  {
   "cell_type": "code",
   "execution_count": null,
   "id": "262cdebd",
   "metadata": {
    "scrolled": true
   },
   "outputs": [],
   "source": [
    "selected_rows_001 = df[df['G_penalty_value'] == 0.01].sample(frac=0.23).index\n",
    "selected_rows_002 = df[df['G_penalty_value'] == 0.02].sample(frac=0.20).index\n",
    "selected_rows_005 = df[df['G_penalty_value'] == 0.05].sample(frac=0.10).index\n",
    "selected_rows_006 = df[df['G_penalty_value'] == 0.06].sample(frac=0.10).index\n",
    "selected_rows_01 = df[df['G_penalty_value'] == 0.1].sample(frac=0.40).index\n",
    "selected_rows_015 = df[df['G_penalty_value'] == 0.15].sample(frac=0.30).index\n",
    "selected_rows_02 = df[df['G_penalty_value'] == 0.2].sample(frac=0.30).index"
   ]
  },
  {
   "cell_type": "code",
   "execution_count": 14,
   "id": "9b20110d",
   "metadata": {},
   "outputs": [],
   "source": [
    "def generate_random_CE_G_001_date_fact(CE_G_001_date_fact):\n",
    "    random_offset = pd.DateOffset(days=np.random.randint(20, 100))\n",
    "    return CE_G_001_date_fact + random_offset\n",
    "\n",
    "def generate_random_CE_G_002_date_fact(CE_G_002_date_fact):\n",
    "    random_offset = pd.DateOffset(days=np.random.randint(20, 80))\n",
    "    return CE_G_002_date_fact + random_offset\n",
    "\n",
    "def generate_random_CE_G_005_date_fact(CE_G_005_date_fact):\n",
    "    random_offset = pd.DateOffset(days=np.random.randint(20, 50))\n",
    "    return CE_G_005_date_fact + random_offset\n",
    "\n",
    "def generate_random_CE_G_006_date_fact(G_006_date_fact):\n",
    "    random_offset = pd.DateOffset(days=np.random.randint(20, 50))\n",
    "    return G_006_date_fact + random_offset\n",
    "\n",
    "def generate_random_CE_G_01_date_fact(G_01_date_fact):\n",
    "    random_offset = pd.DateOffset(days=np.random.randint(20, 150))\n",
    "    return G_01_date_fact + random_offset\n",
    "\n",
    "def generate_random_CE_G_015_date_fact(G_015_date_fact):\n",
    "    random_offset = pd.DateOffset(days=np.random.randint(20, 100))\n",
    "    return G_015_date_fact + random_offset\n",
    "\n",
    "def generate_random_CE_G_02_date_fact(G_02_date_fact):\n",
    "    random_offset = pd.DateOffset(days=np.random.randint(20, 100))\n",
    "    return G_02_date_fact + random_offset\n",
    "\n",
    "\n",
    "df.loc[selected_rows_001, 'CE_G_date_fact'] = df.loc[selected_rows_001, 'CE_G_date_fact'].apply(generate_random_CE_G_001_date_fact)\n",
    "df.loc[selected_rows_002, 'CE_G_date_fact'] = df.loc[selected_rows_002, 'CE_G_date_fact'].apply(generate_random_CE_G_002_date_fact)\n",
    "df.loc[selected_rows_005, 'CE_G_date_fact'] = df.loc[selected_rows_005, 'CE_G_date_fact'].apply(generate_random_CE_G_005_date_fact)\n",
    "df.loc[selected_rows_006, 'CE_G_date_fact'] = df.loc[selected_rows_006, 'CE_G_date_fact'].apply(generate_random_CE_G_006_date_fact)\n",
    "df.loc[selected_rows_01, 'CE_G_date_fact'] = df.loc[selected_rows_01, 'CE_G_date_fact'].apply(generate_random_CE_G_01_date_fact)\n",
    "df.loc[selected_rows_015, 'CE_G_date_fact'] = df.loc[selected_rows_015, 'CE_G_date_fact'].apply(generate_random_CE_G_015_date_fact)\n",
    "df.loc[selected_rows_02, 'CE_G_date_fact'] = df.loc[selected_rows_02, 'CE_G_date_fact'].apply(generate_random_CE_G_02_date_fact)"
   ]
  },
  {
   "cell_type": "markdown",
   "id": "95c46252",
   "metadata": {},
   "source": [
    "Now, let's validate the resulting dataset by displaying it on the screen."
   ]
  },
  {
   "cell_type": "code",
   "execution_count": 15,
   "id": "1604b2a5",
   "metadata": {},
   "outputs": [
    {
     "data": {
      "text/html": [
       "<div>\n",
       "<style scoped>\n",
       "    .dataframe tbody tr th:only-of-type {\n",
       "        vertical-align: middle;\n",
       "    }\n",
       "\n",
       "    .dataframe tbody tr th {\n",
       "        vertical-align: top;\n",
       "    }\n",
       "\n",
       "    .dataframe thead th {\n",
       "        text-align: right;\n",
       "    }\n",
       "</style>\n",
       "<table border=\"1\" class=\"dataframe\">\n",
       "  <thead>\n",
       "    <tr style=\"text-align: right;\">\n",
       "      <th></th>\n",
       "      <th>Contract_ID</th>\n",
       "      <th>Project</th>\n",
       "      <th>Contractor</th>\n",
       "      <th>Start_date</th>\n",
       "      <th>End_date</th>\n",
       "      <th>AP_G_date_plan</th>\n",
       "      <th>AP_G_date_fact</th>\n",
       "      <th>CE_G_date_plan</th>\n",
       "      <th>CE_G_date_fact</th>\n",
       "      <th>WP_G_date_plan</th>\n",
       "      <th>WP_G_date_fact</th>\n",
       "      <th>G_penalty_type</th>\n",
       "      <th>G_penalty_value</th>\n",
       "    </tr>\n",
       "  </thead>\n",
       "  <tbody>\n",
       "    <tr>\n",
       "      <th>0</th>\n",
       "      <td>Contract_ID_1</td>\n",
       "      <td>Project_2</td>\n",
       "      <td>Contractor_57</td>\n",
       "      <td>2020-01-12</td>\n",
       "      <td>2020-10-12</td>\n",
       "      <td>2020-02-12</td>\n",
       "      <td>2020-02-12</td>\n",
       "      <td>2020-02-01</td>\n",
       "      <td>2020-02-01</td>\n",
       "      <td>2020-09-12</td>\n",
       "      <td>2020-09-12</td>\n",
       "      <td>forfeit</td>\n",
       "      <td>0.01</td>\n",
       "    </tr>\n",
       "    <tr>\n",
       "      <th>1</th>\n",
       "      <td>Contract_ID_2</td>\n",
       "      <td>Project_2</td>\n",
       "      <td>Contractor_52</td>\n",
       "      <td>2018-12-16</td>\n",
       "      <td>2019-11-16</td>\n",
       "      <td>2019-01-16</td>\n",
       "      <td>2019-01-16</td>\n",
       "      <td>2019-01-05</td>\n",
       "      <td>2019-01-05</td>\n",
       "      <td>2019-10-16</td>\n",
       "      <td>2019-10-16</td>\n",
       "      <td>forfeit</td>\n",
       "      <td>0.06</td>\n",
       "    </tr>\n",
       "    <tr>\n",
       "      <th>2</th>\n",
       "      <td>Contract_ID_3</td>\n",
       "      <td>Project_2</td>\n",
       "      <td>Contractor_34</td>\n",
       "      <td>2019-06-05</td>\n",
       "      <td>2019-12-05</td>\n",
       "      <td>2019-07-05</td>\n",
       "      <td>2019-07-05</td>\n",
       "      <td>2019-06-25</td>\n",
       "      <td>2019-06-25</td>\n",
       "      <td>2019-11-05</td>\n",
       "      <td>2019-11-05</td>\n",
       "      <td>fine</td>\n",
       "      <td>0.2</td>\n",
       "    </tr>\n",
       "    <tr>\n",
       "      <th>3</th>\n",
       "      <td>Contract_ID_4</td>\n",
       "      <td>Project_1</td>\n",
       "      <td>Contractor_82</td>\n",
       "      <td>2019-01-13</td>\n",
       "      <td>2019-11-13</td>\n",
       "      <td>2019-02-13</td>\n",
       "      <td>2019-02-13</td>\n",
       "      <td>2019-02-02</td>\n",
       "      <td>2019-02-02</td>\n",
       "      <td>2019-10-13</td>\n",
       "      <td>2019-10-13</td>\n",
       "      <td>forfeit</td>\n",
       "      <td>0.02</td>\n",
       "    </tr>\n",
       "    <tr>\n",
       "      <th>4</th>\n",
       "      <td>Contract_ID_5</td>\n",
       "      <td>Project_1</td>\n",
       "      <td>Contractor_50</td>\n",
       "      <td>2020-03-01</td>\n",
       "      <td>2020-05-01</td>\n",
       "      <td>2020-04-01</td>\n",
       "      <td>2020-04-01</td>\n",
       "      <td>2020-03-21</td>\n",
       "      <td>2020-03-21</td>\n",
       "      <td>2020-04-01</td>\n",
       "      <td>2020-04-01</td>\n",
       "      <td>forfeit</td>\n",
       "      <td>0.02</td>\n",
       "    </tr>\n",
       "    <tr>\n",
       "      <th>...</th>\n",
       "      <td>...</td>\n",
       "      <td>...</td>\n",
       "      <td>...</td>\n",
       "      <td>...</td>\n",
       "      <td>...</td>\n",
       "      <td>...</td>\n",
       "      <td>...</td>\n",
       "      <td>...</td>\n",
       "      <td>...</td>\n",
       "      <td>...</td>\n",
       "      <td>...</td>\n",
       "      <td>...</td>\n",
       "      <td>...</td>\n",
       "    </tr>\n",
       "    <tr>\n",
       "      <th>4995</th>\n",
       "      <td>Contract_ID_4996</td>\n",
       "      <td>Project_4</td>\n",
       "      <td>Contractor_86</td>\n",
       "      <td>2019-08-22</td>\n",
       "      <td>2020-01-22</td>\n",
       "      <td>2019-09-22</td>\n",
       "      <td>2019-09-22</td>\n",
       "      <td>2019-09-11</td>\n",
       "      <td>2019-09-11</td>\n",
       "      <td>2019-12-22</td>\n",
       "      <td>2019-12-22</td>\n",
       "      <td>forfeit</td>\n",
       "      <td>0.06</td>\n",
       "    </tr>\n",
       "    <tr>\n",
       "      <th>4996</th>\n",
       "      <td>Contract_ID_4997</td>\n",
       "      <td>Project_1</td>\n",
       "      <td>Contractor_64</td>\n",
       "      <td>2021-02-11</td>\n",
       "      <td>2021-12-11</td>\n",
       "      <td>2021-03-11</td>\n",
       "      <td>2021-03-11</td>\n",
       "      <td>2021-03-03</td>\n",
       "      <td>2021-03-03</td>\n",
       "      <td>2021-11-11</td>\n",
       "      <td>2021-11-11</td>\n",
       "      <td>fine</td>\n",
       "      <td>0.2</td>\n",
       "    </tr>\n",
       "    <tr>\n",
       "      <th>4997</th>\n",
       "      <td>Contract_ID_4998</td>\n",
       "      <td>Project_2</td>\n",
       "      <td>Contractor_15</td>\n",
       "      <td>2018-02-16</td>\n",
       "      <td>2018-10-16</td>\n",
       "      <td>2018-03-16</td>\n",
       "      <td>2018-03-16</td>\n",
       "      <td>2018-03-08</td>\n",
       "      <td>2018-03-08</td>\n",
       "      <td>2018-09-16</td>\n",
       "      <td>2018-09-16</td>\n",
       "      <td>forfeit</td>\n",
       "      <td>0.05</td>\n",
       "    </tr>\n",
       "    <tr>\n",
       "      <th>4998</th>\n",
       "      <td>Contract_ID_4999</td>\n",
       "      <td>Project_1</td>\n",
       "      <td>Contractor_38</td>\n",
       "      <td>2019-01-15</td>\n",
       "      <td>2019-04-15</td>\n",
       "      <td>2019-02-15</td>\n",
       "      <td>2019-02-15</td>\n",
       "      <td>2019-02-04</td>\n",
       "      <td>2019-02-04</td>\n",
       "      <td>2019-03-15</td>\n",
       "      <td>2019-03-15</td>\n",
       "      <td>fine</td>\n",
       "      <td>0.2</td>\n",
       "    </tr>\n",
       "    <tr>\n",
       "      <th>4999</th>\n",
       "      <td>Contract_ID_5000</td>\n",
       "      <td>Project_1</td>\n",
       "      <td>Contractor_14</td>\n",
       "      <td>2019-01-24</td>\n",
       "      <td>2019-05-24</td>\n",
       "      <td>2019-02-24</td>\n",
       "      <td>2019-02-24</td>\n",
       "      <td>2019-02-13</td>\n",
       "      <td>2019-02-13</td>\n",
       "      <td>2019-04-24</td>\n",
       "      <td>2019-04-24</td>\n",
       "      <td>forfeit</td>\n",
       "      <td>0.05</td>\n",
       "    </tr>\n",
       "  </tbody>\n",
       "</table>\n",
       "<p>5000 rows × 13 columns</p>\n",
       "</div>"
      ],
      "text/plain": [
       "           Contract_ID    Project     Contractor Start_date   End_date  \\\n",
       "0        Contract_ID_1  Project_2  Contractor_57 2020-01-12 2020-10-12   \n",
       "1        Contract_ID_2  Project_2  Contractor_52 2018-12-16 2019-11-16   \n",
       "2        Contract_ID_3  Project_2  Contractor_34 2019-06-05 2019-12-05   \n",
       "3        Contract_ID_4  Project_1  Contractor_82 2019-01-13 2019-11-13   \n",
       "4        Contract_ID_5  Project_1  Contractor_50 2020-03-01 2020-05-01   \n",
       "...                ...        ...            ...        ...        ...   \n",
       "4995  Contract_ID_4996  Project_4  Contractor_86 2019-08-22 2020-01-22   \n",
       "4996  Contract_ID_4997  Project_1  Contractor_64 2021-02-11 2021-12-11   \n",
       "4997  Contract_ID_4998  Project_2  Contractor_15 2018-02-16 2018-10-16   \n",
       "4998  Contract_ID_4999  Project_1  Contractor_38 2019-01-15 2019-04-15   \n",
       "4999  Contract_ID_5000  Project_1  Contractor_14 2019-01-24 2019-05-24   \n",
       "\n",
       "     AP_G_date_plan AP_G_date_fact CE_G_date_plan CE_G_date_fact  \\\n",
       "0        2020-02-12     2020-02-12     2020-02-01     2020-02-01   \n",
       "1        2019-01-16     2019-01-16     2019-01-05     2019-01-05   \n",
       "2        2019-07-05     2019-07-05     2019-06-25     2019-06-25   \n",
       "3        2019-02-13     2019-02-13     2019-02-02     2019-02-02   \n",
       "4        2020-04-01     2020-04-01     2020-03-21     2020-03-21   \n",
       "...             ...            ...            ...            ...   \n",
       "4995     2019-09-22     2019-09-22     2019-09-11     2019-09-11   \n",
       "4996     2021-03-11     2021-03-11     2021-03-03     2021-03-03   \n",
       "4997     2018-03-16     2018-03-16     2018-03-08     2018-03-08   \n",
       "4998     2019-02-15     2019-02-15     2019-02-04     2019-02-04   \n",
       "4999     2019-02-24     2019-02-24     2019-02-13     2019-02-13   \n",
       "\n",
       "     WP_G_date_plan WP_G_date_fact G_penalty_type G_penalty_value  \n",
       "0        2020-09-12     2020-09-12        forfeit            0.01  \n",
       "1        2019-10-16     2019-10-16        forfeit            0.06  \n",
       "2        2019-11-05     2019-11-05           fine             0.2  \n",
       "3        2019-10-13     2019-10-13        forfeit            0.02  \n",
       "4        2020-04-01     2020-04-01        forfeit            0.02  \n",
       "...             ...            ...            ...             ...  \n",
       "4995     2019-12-22     2019-12-22        forfeit            0.06  \n",
       "4996     2021-11-11     2021-11-11           fine             0.2  \n",
       "4997     2018-09-16     2018-09-16        forfeit            0.05  \n",
       "4998     2019-03-15     2019-03-15           fine             0.2  \n",
       "4999     2019-04-24     2019-04-24        forfeit            0.05  \n",
       "\n",
       "[5000 rows x 13 columns]"
      ]
     },
     "execution_count": 15,
     "metadata": {},
     "output_type": "execute_result"
    }
   ],
   "source": [
    "df"
   ]
  },
  {
   "cell_type": "markdown",
   "id": "9241048f",
   "metadata": {},
   "source": [
    "We will save the dataset to an Excel file for further use in the project."
   ]
  },
  {
   "cell_type": "code",
   "execution_count": 19,
   "id": "05e492c0",
   "metadata": {},
   "outputs": [],
   "source": [
    "#df.to_excel(\"data.xlsx\")"
   ]
  },
  {
   "cell_type": "markdown",
   "id": "cd030fd3",
   "metadata": {},
   "source": [
    "Thank you for your time and attention!"
   ]
  }
 ],
 "metadata": {
  "kernelspec": {
   "display_name": "Python 3 (ipykernel)",
   "language": "python",
   "name": "python3"
  },
  "language_info": {
   "codemirror_mode": {
    "name": "ipython",
    "version": 3
   },
   "file_extension": ".py",
   "mimetype": "text/x-python",
   "name": "python",
   "nbconvert_exporter": "python",
   "pygments_lexer": "ipython3",
   "version": "3.9.13"
  }
 },
 "nbformat": 4,
 "nbformat_minor": 5
}
